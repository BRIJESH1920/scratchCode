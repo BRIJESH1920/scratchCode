{
  "cells": [
    {
      "cell_type": "code",
      "source": [
        "import pandas as pd\n",
        "import numpy as np\n",
        "import math as m"
      ],
      "metadata": {
        "id": "jZluo0_3N5Am"
      },
      "execution_count": 99,
      "outputs": []
    },
    {
      "cell_type": "code",
      "source": [
        "df=pd.read_csv('/content/drive/MyDrive/Colab Notebooks/data/weather.csv',index_col=False)"
      ],
      "metadata": {
        "id": "Zxqx153rN4-J"
      },
      "execution_count": 100,
      "outputs": []
    },
    {
      "cell_type": "code",
      "source": [
        "df"
      ],
      "metadata": {
        "id": "smKm5UGIeQ_I",
        "colab": {
          "base_uri": "https://localhost:8080/",
          "height": 488
        },
        "outputId": "6929ebb9-0d1e-47e3-a299-cf3a003936a4"
      },
      "execution_count": 109,
      "outputs": [
        {
          "output_type": "execute_result",
          "data": {
            "text/plain": [
              "     outlook temperature humidity  windy play\n",
              "0   overcast         hot     high  False  yes\n",
              "1   overcast        cool   normal   True  yes\n",
              "2   overcast        mild     high   True  yes\n",
              "3   overcast         hot   normal  False  yes\n",
              "4      rainy        mild     high  False  yes\n",
              "5      rainy        cool   normal  False  yes\n",
              "6      rainy        cool   normal   True   no\n",
              "7      rainy        mild   normal  False  yes\n",
              "8      rainy        mild     high   True   no\n",
              "9      sunny         hot     high  False   no\n",
              "10     sunny         hot     high   True   no\n",
              "11     sunny        mild     high  False   no\n",
              "12     sunny        cool   normal  False  yes\n",
              "13     sunny        mild   normal   True  yes"
            ],
            "text/html": [
              "\n",
              "  <div id=\"df-4c66325d-7fa6-4cea-8588-ba5acd475d47\">\n",
              "    <div class=\"colab-df-container\">\n",
              "      <div>\n",
              "<style scoped>\n",
              "    .dataframe tbody tr th:only-of-type {\n",
              "        vertical-align: middle;\n",
              "    }\n",
              "\n",
              "    .dataframe tbody tr th {\n",
              "        vertical-align: top;\n",
              "    }\n",
              "\n",
              "    .dataframe thead th {\n",
              "        text-align: right;\n",
              "    }\n",
              "</style>\n",
              "<table border=\"1\" class=\"dataframe\">\n",
              "  <thead>\n",
              "    <tr style=\"text-align: right;\">\n",
              "      <th></th>\n",
              "      <th>outlook</th>\n",
              "      <th>temperature</th>\n",
              "      <th>humidity</th>\n",
              "      <th>windy</th>\n",
              "      <th>play</th>\n",
              "    </tr>\n",
              "  </thead>\n",
              "  <tbody>\n",
              "    <tr>\n",
              "      <th>0</th>\n",
              "      <td>overcast</td>\n",
              "      <td>hot</td>\n",
              "      <td>high</td>\n",
              "      <td>False</td>\n",
              "      <td>yes</td>\n",
              "    </tr>\n",
              "    <tr>\n",
              "      <th>1</th>\n",
              "      <td>overcast</td>\n",
              "      <td>cool</td>\n",
              "      <td>normal</td>\n",
              "      <td>True</td>\n",
              "      <td>yes</td>\n",
              "    </tr>\n",
              "    <tr>\n",
              "      <th>2</th>\n",
              "      <td>overcast</td>\n",
              "      <td>mild</td>\n",
              "      <td>high</td>\n",
              "      <td>True</td>\n",
              "      <td>yes</td>\n",
              "    </tr>\n",
              "    <tr>\n",
              "      <th>3</th>\n",
              "      <td>overcast</td>\n",
              "      <td>hot</td>\n",
              "      <td>normal</td>\n",
              "      <td>False</td>\n",
              "      <td>yes</td>\n",
              "    </tr>\n",
              "    <tr>\n",
              "      <th>4</th>\n",
              "      <td>rainy</td>\n",
              "      <td>mild</td>\n",
              "      <td>high</td>\n",
              "      <td>False</td>\n",
              "      <td>yes</td>\n",
              "    </tr>\n",
              "    <tr>\n",
              "      <th>5</th>\n",
              "      <td>rainy</td>\n",
              "      <td>cool</td>\n",
              "      <td>normal</td>\n",
              "      <td>False</td>\n",
              "      <td>yes</td>\n",
              "    </tr>\n",
              "    <tr>\n",
              "      <th>6</th>\n",
              "      <td>rainy</td>\n",
              "      <td>cool</td>\n",
              "      <td>normal</td>\n",
              "      <td>True</td>\n",
              "      <td>no</td>\n",
              "    </tr>\n",
              "    <tr>\n",
              "      <th>7</th>\n",
              "      <td>rainy</td>\n",
              "      <td>mild</td>\n",
              "      <td>normal</td>\n",
              "      <td>False</td>\n",
              "      <td>yes</td>\n",
              "    </tr>\n",
              "    <tr>\n",
              "      <th>8</th>\n",
              "      <td>rainy</td>\n",
              "      <td>mild</td>\n",
              "      <td>high</td>\n",
              "      <td>True</td>\n",
              "      <td>no</td>\n",
              "    </tr>\n",
              "    <tr>\n",
              "      <th>9</th>\n",
              "      <td>sunny</td>\n",
              "      <td>hot</td>\n",
              "      <td>high</td>\n",
              "      <td>False</td>\n",
              "      <td>no</td>\n",
              "    </tr>\n",
              "    <tr>\n",
              "      <th>10</th>\n",
              "      <td>sunny</td>\n",
              "      <td>hot</td>\n",
              "      <td>high</td>\n",
              "      <td>True</td>\n",
              "      <td>no</td>\n",
              "    </tr>\n",
              "    <tr>\n",
              "      <th>11</th>\n",
              "      <td>sunny</td>\n",
              "      <td>mild</td>\n",
              "      <td>high</td>\n",
              "      <td>False</td>\n",
              "      <td>no</td>\n",
              "    </tr>\n",
              "    <tr>\n",
              "      <th>12</th>\n",
              "      <td>sunny</td>\n",
              "      <td>cool</td>\n",
              "      <td>normal</td>\n",
              "      <td>False</td>\n",
              "      <td>yes</td>\n",
              "    </tr>\n",
              "    <tr>\n",
              "      <th>13</th>\n",
              "      <td>sunny</td>\n",
              "      <td>mild</td>\n",
              "      <td>normal</td>\n",
              "      <td>True</td>\n",
              "      <td>yes</td>\n",
              "    </tr>\n",
              "  </tbody>\n",
              "</table>\n",
              "</div>\n",
              "      <button class=\"colab-df-convert\" onclick=\"convertToInteractive('df-4c66325d-7fa6-4cea-8588-ba5acd475d47')\"\n",
              "              title=\"Convert this dataframe to an interactive table.\"\n",
              "              style=\"display:none;\">\n",
              "        \n",
              "  <svg xmlns=\"http://www.w3.org/2000/svg\" height=\"24px\"viewBox=\"0 0 24 24\"\n",
              "       width=\"24px\">\n",
              "    <path d=\"M0 0h24v24H0V0z\" fill=\"none\"/>\n",
              "    <path d=\"M18.56 5.44l.94 2.06.94-2.06 2.06-.94-2.06-.94-.94-2.06-.94 2.06-2.06.94zm-11 1L8.5 8.5l.94-2.06 2.06-.94-2.06-.94L8.5 2.5l-.94 2.06-2.06.94zm10 10l.94 2.06.94-2.06 2.06-.94-2.06-.94-.94-2.06-.94 2.06-2.06.94z\"/><path d=\"M17.41 7.96l-1.37-1.37c-.4-.4-.92-.59-1.43-.59-.52 0-1.04.2-1.43.59L10.3 9.45l-7.72 7.72c-.78.78-.78 2.05 0 2.83L4 21.41c.39.39.9.59 1.41.59.51 0 1.02-.2 1.41-.59l7.78-7.78 2.81-2.81c.8-.78.8-2.07 0-2.86zM5.41 20L4 18.59l7.72-7.72 1.47 1.35L5.41 20z\"/>\n",
              "  </svg>\n",
              "      </button>\n",
              "      \n",
              "  <style>\n",
              "    .colab-df-container {\n",
              "      display:flex;\n",
              "      flex-wrap:wrap;\n",
              "      gap: 12px;\n",
              "    }\n",
              "\n",
              "    .colab-df-convert {\n",
              "      background-color: #E8F0FE;\n",
              "      border: none;\n",
              "      border-radius: 50%;\n",
              "      cursor: pointer;\n",
              "      display: none;\n",
              "      fill: #1967D2;\n",
              "      height: 32px;\n",
              "      padding: 0 0 0 0;\n",
              "      width: 32px;\n",
              "    }\n",
              "\n",
              "    .colab-df-convert:hover {\n",
              "      background-color: #E2EBFA;\n",
              "      box-shadow: 0px 1px 2px rgba(60, 64, 67, 0.3), 0px 1px 3px 1px rgba(60, 64, 67, 0.15);\n",
              "      fill: #174EA6;\n",
              "    }\n",
              "\n",
              "    [theme=dark] .colab-df-convert {\n",
              "      background-color: #3B4455;\n",
              "      fill: #D2E3FC;\n",
              "    }\n",
              "\n",
              "    [theme=dark] .colab-df-convert:hover {\n",
              "      background-color: #434B5C;\n",
              "      box-shadow: 0px 1px 3px 1px rgba(0, 0, 0, 0.15);\n",
              "      filter: drop-shadow(0px 1px 2px rgba(0, 0, 0, 0.3));\n",
              "      fill: #FFFFFF;\n",
              "    }\n",
              "  </style>\n",
              "\n",
              "      <script>\n",
              "        const buttonEl =\n",
              "          document.querySelector('#df-4c66325d-7fa6-4cea-8588-ba5acd475d47 button.colab-df-convert');\n",
              "        buttonEl.style.display =\n",
              "          google.colab.kernel.accessAllowed ? 'block' : 'none';\n",
              "\n",
              "        async function convertToInteractive(key) {\n",
              "          const element = document.querySelector('#df-4c66325d-7fa6-4cea-8588-ba5acd475d47');\n",
              "          const dataTable =\n",
              "            await google.colab.kernel.invokeFunction('convertToInteractive',\n",
              "                                                     [key], {});\n",
              "          if (!dataTable) return;\n",
              "\n",
              "          const docLinkHtml = 'Like what you see? Visit the ' +\n",
              "            '<a target=\"_blank\" href=https://colab.research.google.com/notebooks/data_table.ipynb>data table notebook</a>'\n",
              "            + ' to learn more about interactive tables.';\n",
              "          element.innerHTML = '';\n",
              "          dataTable['output_type'] = 'display_data';\n",
              "          await google.colab.output.renderOutput(dataTable, element);\n",
              "          const docLink = document.createElement('div');\n",
              "          docLink.innerHTML = docLinkHtml;\n",
              "          element.appendChild(docLink);\n",
              "        }\n",
              "      </script>\n",
              "    </div>\n",
              "  </div>\n",
              "  "
            ]
          },
          "metadata": {},
          "execution_count": 109
        }
      ]
    },
    {
      "cell_type": "code",
      "source": [
        "# variable a is the single attribute column which is being passed in the function\n",
        "# This function count the info gain for the main attribute/class passed as you can see below\n",
        "def main_class_info_count(a):\n",
        "  ans=0\n",
        "  a=a.value_counts()\n",
        "  for i in range(len(a)):\n",
        "    tot=a.sum()\n",
        "    value=(-a[i]/tot)*(m.log2(a[i]/tot))\n",
        "    ans+= value\n",
        "  return ans"
      ],
      "metadata": {
        "id": "KiagS_P7N45J"
      },
      "execution_count": 103,
      "outputs": []
    },
    {
      "cell_type": "code",
      "source": [
        "def info_count_pro_max(x_col,df):\n",
        "  b=x_col.value_counts()\n",
        "  c=b.keys()\n",
        "  temp_ans=0\n",
        "  for i in c:\n",
        "    a=df[x_col== i]\n",
        "    temp_ans+=(len(a)/N) * main_class_info_count(a[target_col_name])\n",
        "  return temp_ans"
      ],
      "metadata": {
        "id": "tOdwR8Xrb3w2"
      },
      "execution_count": 104,
      "outputs": []
    },
    {
      "cell_type": "code",
      "source": [
        "#This function will count the gain out of all and will return whichever is the maximum helpfull function for this are declared above\n",
        "def count_main_tree(df):\n",
        "  max=0\n",
        "  max_name=''\n",
        "  for i in range(len(df.columns)-1):\n",
        "    i=df.columns[i]\n",
        "    final_ans=info_count_pro_max(df[i],df)\n",
        "    main_info_value=main_class_info_count(df[target_col_name])\n",
        "    gain=main_info_value-final_ans\n",
        "    if(gain>max):\n",
        "      max=gain\n",
        "      max_name=i\n",
        "  return max_name,df[max_name].unique()"
      ],
      "metadata": {
        "id": "588XgYwiN4yN"
      },
      "execution_count": 105,
      "outputs": []
    },
    {
      "cell_type": "code",
      "source": [
        "#This function will split the data\n",
        "def split_data(spli_by_col_name,df):\n",
        "  b=spli_by_col_name.value_counts()\n",
        "  c=b.keys()\n",
        "  temp_ans=0\n",
        "  sub_frames=[]\n",
        "  for i in c:\n",
        "    a=df[spli_by_col_name== i]\n",
        "    sub_frames.append([a])\n",
        "  return sub_frames"
      ],
      "metadata": {
        "id": "R6LT63G7nRkT"
      },
      "execution_count": 106,
      "outputs": []
    },
    {
      "cell_type": "code",
      "source": [
        "#This is the main function which will give us the tree and its node\n",
        "def call_again_rec(df,node_name=None,root=0):\n",
        "  if(root):\n",
        "    node,sub_branch=count_main_tree(df)\n",
        "    print('Root Node is -----------><<<<{}>>>> and its branch/subnodes are <<<<{}>>>>'.format(node,sub_branch))\n",
        "    node_name=node\n",
        "    root=0\n",
        "    call_again_rec(df,node_name,root)\n",
        "  else:\n",
        "    list_of_sub_frames=split_data(df[node_name],df)\n",
        "    for i in range(len(list_of_sub_frames)):\n",
        "      temp_df=list_of_sub_frames[i][0]\n",
        "      if(len(temp_df[target_col_name].unique())>=2):\n",
        "        max_,max_list_=count_main_tree(temp_df)\n",
        "        call_again_rec(temp_df,max_)\n",
        "      else:\n",
        "        above_sub_tree_cols=temp_df.columns[0]\n",
        "        above_tree_node=df[above_sub_tree_cols].unique()[0]\n",
        "        print('Direct assignment from <<<<{}>>>> to  <<<< {} >>>> to  the given -------> <<<<{}>>>> value and the clas will be ---------> <<<<{}>>>>'.format(above_tree_node,node_name,temp_df[node_name].unique()[0],temp_df[target_col_name].unique()[0]))"
      ],
      "metadata": {
        "id": "cbDS9bDanOOS"
      },
      "execution_count": 111,
      "outputs": []
    },
    {
      "cell_type": "markdown",
      "source": [
        "Testing the code here where we are passing the dataframe with the default value of root which shows that we are finding tree from the root node."
      ],
      "metadata": {
        "id": "IsimvOoaFV3U"
      }
    },
    {
      "cell_type": "code",
      "source": [
        "N=len(df)\n",
        "target_col_name='play'\n",
        "call_again_rec(df,root=1)"
      ],
      "metadata": {
        "colab": {
          "base_uri": "https://localhost:8080/"
        },
        "id": "c9dXF-TwxQqv",
        "outputId": "6b0703e1-1e4e-4aae-e429-5542e74e4378"
      },
      "execution_count": 112,
      "outputs": [
        {
          "output_type": "stream",
          "name": "stdout",
          "text": [
            "Root Node is -----------><<<<outlook>>>> and its branch/subnodes are <<<<['overcast' 'rainy' 'sunny']>>>>\n",
            "Direct assignment from <<<<rainy>>>> to  <<<< windy >>>> to  the given -------> <<<<False>>>> value and the clas will be ---------> <<<<yes>>>>\n",
            "Direct assignment from <<<<rainy>>>> to  <<<< windy >>>> to  the given -------> <<<<True>>>> value and the clas will be ---------> <<<<no>>>>\n",
            "Direct assignment from <<<<sunny>>>> to  <<<< humidity >>>> to  the given -------> <<<<high>>>> value and the clas will be ---------> <<<<no>>>>\n",
            "Direct assignment from <<<<sunny>>>> to  <<<< humidity >>>> to  the given -------> <<<<normal>>>> value and the clas will be ---------> <<<<yes>>>>\n",
            "Direct assignment from <<<<overcast>>>> to  <<<< outlook >>>> to  the given -------> <<<<overcast>>>> value and the clas will be ---------> <<<<yes>>>>\n"
          ]
        }
      ]
    },
    {
      "cell_type": "markdown",
      "source": [
        "Now based on this we can define the set of rules as follow we haven't automated this code as our main ideas was to explain the maths behind Decision Tree (ID3) algorithm."
      ],
      "metadata": {
        "id": "YqD1JOfrE5bg"
      }
    },
    {
      "cell_type": "code",
      "source": [
        "outlook='overcast'\n",
        "temperature='hot'\n",
        "humidity='high'\n",
        "windy\t='False'\n",
        "play='yes'"
      ],
      "metadata": {
        "id": "WVBk5cHRGeIz"
      },
      "execution_count": 110,
      "outputs": []
    },
    {
      "cell_type": "code",
      "source": [
        "if(outlook=='rainy'):\n",
        "  if(windy=='False'):\n",
        "    print('Given point is belong to class ----> Yes')\n",
        "  elif(windy=='True'):\n",
        "    print('Given point is belong to class ----> no')\n",
        "elif(outlook=='overcast'):\n",
        "    print('Given point is belong to class ----> Yes')\n",
        "elif( outlook=='sunny'):\n",
        "  if(humidity=='high'):\n",
        "    print('Given point is belong to class ----> No')\n",
        "  elif(humidity=='normal'):\n",
        "    print('Given point is belong to class ----> Yes')"
      ],
      "metadata": {
        "colab": {
          "base_uri": "https://localhost:8080/"
        },
        "id": "TuaQ5zPP8wa7",
        "outputId": "1fc94a40-b06d-4a49-94e6-e6a56d279adc"
      },
      "execution_count": 113,
      "outputs": [
        {
          "output_type": "stream",
          "name": "stdout",
          "text": [
            "Given point is belong to class ----> Yes\n"
          ]
        }
      ]
    },
    {
      "cell_type": "code",
      "source": [],
      "metadata": {
        "id": "qpcrVav68wSQ"
      },
      "execution_count": null,
      "outputs": []
    }
  ],
  "metadata": {
    "colab": {
      "provenance": [],
      "collapsed_sections": []
    },
    "kernelspec": {
      "display_name": "Python 3",
      "name": "python3"
    },
    "language_info": {
      "name": "python"
    }
  },
  "nbformat": 4,
  "nbformat_minor": 0
}