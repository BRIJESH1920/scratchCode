{
  "nbformat": 4,
  "nbformat_minor": 0,
  "metadata": {
    "colab": {
      "provenance": [],
      "collapsed_sections": []
    },
    "kernelspec": {
      "name": "python3",
      "display_name": "Python 3"
    },
    "language_info": {
      "name": "python"
    }
  },
  "cells": [
    {
      "cell_type": "markdown",
      "source": [
        "##Simple Linear regression code is as follow."
      ],
      "metadata": {
        "id": "oBmv2e8To-k8"
      }
    },
    {
      "cell_type": "markdown",
      "source": [
        " You can use fit and predict methods as defined in class linear_regression"
      ],
      "metadata": {
        "id": "DkPzcdBapSCM"
      }
    },
    {
      "cell_type": "code",
      "source": [
        "class linear_regression:\n",
        "    def fit(self,x,y):\n",
        "        def find_mean(li):\n",
        "            sum=0\n",
        "            for i in li:\n",
        "                sum=sum+i\n",
        "            mean=sum/len(li)\n",
        "            return mean\n",
        "        self.n=len(x)\n",
        "        # x and y mean\n",
        "        self.x_mean=find_mean(x)\n",
        "        self.y_mean=find_mean(y)\n",
        "        def find_diff_ai_abar(a,b,c):\n",
        "            li=[]\n",
        "            if(c==1):\n",
        "                for i in a:\n",
        "                    ans=i-b\n",
        "                    li.append(ans)\n",
        "                return li\n",
        "            if(c==2):\n",
        "                for i in a:\n",
        "                    ans=pow((i-b),2)\n",
        "                    li.append(ans)\n",
        "                return sum(li)\n",
        "        def product_diff(li1,li2):\n",
        "            li=[]\n",
        "            for i in range(len(li1)):\n",
        "                ans=li1[i]*li2[i]\n",
        "                li.append(ans)\n",
        "            return sum(li)\n",
        "        #Other cols which is needed eg.\n",
        "        #∑(Xi-Xbar), ∑(yi-ybar), ∑(Xi-Xbar)sq, ∑(yi-ybar)sq, ∑(Xi-Xbar*)*∑(Xi-Xbar)\n",
        "        self.diff_xi_xbar=find_diff_ai_abar(x,self.x_mean,1)\n",
        "        self.diff_yi_ybar=find_diff_ai_abar(y,self.y_mean,1)\n",
        "        self.square_diff_xi_xbar=find_diff_ai_abar(x,self.x_mean,2)\n",
        "        self.square_diff_yi_ybar=find_diff_ai_abar(y,self.y_mean,2)\n",
        "        self.product_xiyi_bar=product_diff(self.diff_xi_xbar,self.diff_yi_ybar)\n",
        "\n",
        "        self.bita1=self.product_xiyi_bar/self.square_diff_xi_xbar\n",
        "        self.bita0=self.y_mean-(self.bita1*self.x_mean)\n",
        "\n",
        "    def coff_of_determination(self):\n",
        "        sigma_x=( (1/self.n)*self.square_diff_xi_xbar)**0.5\n",
        "        sigma_y=((1/self.n)*self.square_diff_yi_ybar)**0.5\n",
        "        r2= pow( ( (1/self.n) * self.product_xiyi_bar ) / (sigma_x*sigma_y) , 2 )\n",
        "        return r2\n",
        "\n",
        "    def predict(self,x_test):\n",
        "        y_predicted=[]\n",
        "        for i in range(len(x_test)):\n",
        "            prediction=self.bita0 + (self.bita1*x_test[i])\n",
        "            y_predicted.append(prediction)\n",
        "        return y_predicted\n"
      ],
      "metadata": {
        "id": "3Mo9fUglozd9"
      },
      "execution_count": null,
      "outputs": []
    }
  ]
}